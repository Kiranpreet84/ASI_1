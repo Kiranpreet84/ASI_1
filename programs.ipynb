{
  "nbformat": 4,
  "nbformat_minor": 0,
  "metadata": {
    "colab": {
      "provenance": [],
      "authorship_tag": "ABX9TyNmDTyh+7uKGXTrV/SzIQod",
      "include_colab_link": true
    },
    "kernelspec": {
      "name": "python3",
      "display_name": "Python 3"
    },
    "language_info": {
      "name": "python"
    }
  },
  "cells": [
    {
      "cell_type": "markdown",
      "metadata": {
        "id": "view-in-github",
        "colab_type": "text"
      },
      "source": [
        "<a href=\"https://colab.research.google.com/github/Kiranpreet84/ASI_1/blob/main/programs.ipynb\" target=\"_parent\"><img src=\"https://colab.research.google.com/assets/colab-badge.svg\" alt=\"Open In Colab\"/></a>"
      ]
    },
    {
      "cell_type": "code",
      "execution_count": 21,
      "metadata": {
        "colab": {
          "base_uri": "https://localhost:8080/"
        },
        "id": "2SPu9jeh2wI5",
        "outputId": "8e06ab5c-5132-41cc-b0fd-7f6a22339fe4"
      },
      "outputs": [
        {
          "output_type": "stream",
          "name": "stdout",
          "text": [
            "hello\n"
          ]
        }
      ],
      "source": [
        "print(\"hello\")"
      ]
    },
    {
      "cell_type": "markdown",
      "source": [
        "Write a python program to swap two variables using a temporary variable and without using a temporary variable."
      ],
      "metadata": {
        "id": "neufpkf43O2Y"
      }
    },
    {
      "cell_type": "code",
      "source": [
        "a=10\n",
        "b=20\n",
        "print(\"Before Swapping:\")\n",
        "print(\"a=\",a,\"b=\",b)\n",
        "temp=a\n",
        "a=b\n",
        "b=temp\n",
        "print(\"After Swapping with temp variable:\")\n",
        "print(\"a=\",a,\"b=\",b)\n",
        "#Without using a temporary variable\n",
        "x=5\n",
        "y=7\n",
        "print(\"\\nBefore Swapping:\")\n",
        "print(\"x=\",x,\"y=\",y)\n",
        "x,y=y,x\n",
        "print(\"After Swapping without temp variable:\")\n",
        "print(\"x=\",x,\"y=\",y)"
      ],
      "metadata": {
        "id": "coC8AthT3fne",
        "outputId": "73c82d1d-b9aa-412c-ebd0-aaca34d8d112",
        "colab": {
          "base_uri": "https://localhost:8080/"
        }
      },
      "execution_count": 22,
      "outputs": [
        {
          "output_type": "stream",
          "name": "stdout",
          "text": [
            "Before Swapping:\n",
            "a= 10 b= 20\n",
            "After Swapping with temp variable:\n",
            "a= 20 b= 10\n",
            "\n",
            "Before Swapping:\n",
            "x= 5 y= 7\n",
            "After Swapping without temp variable:\n",
            "x= 7 y= 5\n"
          ]
        }
      ]
    },
    {
      "cell_type": "markdown",
      "source": [
        "Write a python program to make square of 6*6"
      ],
      "metadata": {
        "id": "UkdpOb7I5Ju_"
      }
    },
    {
      "cell_type": "code",
      "source": [
        "num=6\n",
        "for i in range(num):\n",
        "  for j in range(num):\n",
        "    print(num,end=\" \")\n",
        ""
      ],
      "metadata": {
        "id": "AHyXdM6i5X6N",
        "outputId": "df46e83f-8b2b-416e-bb2e-c205e4e1f425",
        "colab": {
          "base_uri": "https://localhost:8080/"
        }
      },
      "execution_count": 23,
      "outputs": [
        {
          "output_type": "stream",
          "name": "stdout",
          "text": [
            "6 6 6 6 6 6 6 6 6 6 6 6 6 6 6 6 6 6 6 6 6 6 6 6 6 6 6 6 6 6 6 6 6 6 6 6 "
          ]
        }
      ]
    },
    {
      "cell_type": "markdown",
      "source": [
        "Write a python program to calculate the factorial of a number using for loop."
      ],
      "metadata": {
        "id": "U4-no-n56PQy"
      }
    },
    {
      "cell_type": "code",
      "source": [
        "num=int(input(\"Enter a number:\"))\n",
        "factorial=1\n",
        "for i in range(1,num+1):\n",
        "  factorial*=i\n",
        "  print(\"Factorial of\",num, \"is:\",factorial)"
      ],
      "metadata": {
        "id": "8uTEWRg66Y_H",
        "outputId": "490ac7d6-8f0f-43ee-eca6-0d6377b02be5",
        "colab": {
          "base_uri": "https://localhost:8080/"
        }
      },
      "execution_count": 25,
      "outputs": [
        {
          "output_type": "stream",
          "name": "stdout",
          "text": [
            "Enter a number:3\n",
            "Factorial of 3 is: 1\n",
            "Factorial of 3 is: 2\n",
            "Factorial of 3 is: 6\n"
          ]
        }
      ]
    },
    {
      "cell_type": "markdown",
      "source": [
        "Write a python program to simulate a simple password system:\n",
        "1.User has 3 attempts to enter the correct password \"admin123\".\n",
        "2.if correct print \"Access Granted\".\n",
        "3.if incorrect then print \"Access Denied\"."
      ],
      "metadata": {
        "id": "bG3_4qg-7ZEd"
      }
    },
    {
      "cell_type": "code",
      "source": [
        "correct_password=\"admin123\"\n",
        "attempts=3\n",
        "for i in range(attempts):\n",
        "  password=input(\"Enter password:\")\n",
        "if password==correct_password:\n",
        "  print(\"Access Granted\")kdjqd\n",
        "\n",
        "else:\n",
        "    print(\"Access Denied\")"
      ],
      "metadata": {
        "id": "QnwOilto7_O7",
        "outputId": "6029afc9-c1b3-467a-c3d7-392d5e8bcaa8",
        "colab": {
          "base_uri": "https://localhost:8080/"
        }
      },
      "execution_count": 29,
      "outputs": [
        {
          "output_type": "stream",
          "name": "stdout",
          "text": [
            "Enter password:admin123\n",
            "Enter password:adminkjnfsw\n",
            "Enter password:asdnckaj\n",
            "Access Denied\n"
          ]
        }
      ]
    }
  ]
}