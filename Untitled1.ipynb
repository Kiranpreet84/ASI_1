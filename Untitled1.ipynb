{
  "nbformat": 4,
  "nbformat_minor": 0,
  "metadata": {
    "colab": {
      "provenance": [],
      "authorship_tag": "ABX9TyO2xe5urbcfpnMO8Rsp+VdM",
      "include_colab_link": true
    },
    "kernelspec": {
      "name": "python3",
      "display_name": "Python 3"
    },
    "language_info": {
      "name": "python"
    }
  },
  "cells": [
    {
      "cell_type": "markdown",
      "metadata": {
        "id": "view-in-github",
        "colab_type": "text"
      },
      "source": [
        "<a href=\"https://colab.research.google.com/github/Kiranpreet84/ASI_1/blob/main/Untitled1.ipynb\" target=\"_parent\"><img src=\"https://colab.research.google.com/assets/colab-badge.svg\" alt=\"Open In Colab\"/></a>"
      ]
    },
    {
      "cell_type": "code",
      "execution_count": 36,
      "metadata": {
        "colab": {
          "base_uri": "https://localhost:8080/"
        },
        "id": "2SPu9jeh2wI5",
        "outputId": "20b6e3ca-b07f-4bfe-8564-285d2733560b"
      },
      "outputs": [
        {
          "output_type": "stream",
          "name": "stdout",
          "text": [
            "hello\n"
          ]
        }
      ],
      "source": [
        "print(\"hello\")"
      ]
    },
    {
      "cell_type": "markdown",
      "source": [
        "Write a python program to swap two variables using a temporary variable and without using a temporary variable."
      ],
      "metadata": {
        "id": "neufpkf43O2Y"
      }
    },
    {
      "cell_type": "code",
      "source": [
        "a=10\n",
        "b=20\n",
        "print(\"Before Swapping:\")\n",
        "print(\"a=\",a,\"b=\",b)\n",
        "temp=a\n",
        "a=b\n",
        "b=temp\n",
        "print(\"After Swapping with temp variable:\")\n",
        "print(\"a=\",a,\"b=\",b)\n",
        "#Without using a temporary variable\n",
        "x=5\n",
        "y=7\n",
        "print(\"\\nBefore Swapping:\")\n",
        "print(\"x=\",x,\"y=\",y)\n",
        "x,y=y,x\n",
        "print(\"After Swapping without temp variable:\")\n",
        "print(\"x=\",x,\"y=\",y)"
      ],
      "metadata": {
        "colab": {
          "base_uri": "https://localhost:8080/"
        },
        "id": "coC8AthT3fne",
        "outputId": "5a0104ec-bfb8-488a-da17-626e5f366129"
      },
      "execution_count": 37,
      "outputs": [
        {
          "output_type": "stream",
          "name": "stdout",
          "text": [
            "Before Swapping:\n",
            "a= 10 b= 20\n",
            "After Swapping with temp variable:\n",
            "a= 20 b= 10\n",
            "\n",
            "Before Swapping:\n",
            "x= 5 y= 7\n",
            "After Swapping without temp variable:\n",
            "x= 7 y= 5\n"
          ]
        }
      ]
    },
    {
      "cell_type": "markdown",
      "source": [
        "Write a python program to make square of 6*6"
      ],
      "metadata": {
        "id": "UkdpOb7I5Ju_"
      }
    },
    {
      "cell_type": "code",
      "source": [
        "num=6\n",
        "size=6\n",
        "for i in range(num):\n",
        "  for j in range(size):\n",
        "    print(num,end=\" \")\n",
        "\n",
        "\n",
        ""
      ],
      "metadata": {
        "colab": {
          "base_uri": "https://localhost:8080/"
        },
        "id": "AHyXdM6i5X6N",
        "outputId": "59f7a15b-75b0-4182-f30a-4ff57b355795"
      },
      "execution_count": 55,
      "outputs": [
        {
          "output_type": "stream",
          "name": "stdout",
          "text": [
            "6 6 6 6 6 6 6 6 6 6 6 6 6 6 6 6 6 6 6 6 6 6 6 6 6 6 6 6 6 6 6 6 6 6 6 6 "
          ]
        }
      ]
    },
    {
      "cell_type": "markdown",
      "source": [
        "Write a python program to calculate the factorial of a number using for loop."
      ],
      "metadata": {
        "id": "U4-no-n56PQy"
      }
    },
    {
      "cell_type": "code",
      "source": [
        "num=int(input(\"Enter a number:\"))\n",
        "factorial=1\n",
        "for i in range(1,num+1):\n",
        "  factorial*=i\n",
        "  print(\"Factorial of\",num, \"is:\",factorial)"
      ],
      "metadata": {
        "colab": {
          "base_uri": "https://localhost:8080/"
        },
        "id": "8uTEWRg66Y_H",
        "outputId": "86551fb5-a274-4f6e-934c-2b0a0c1cca8e"
      },
      "execution_count": 39,
      "outputs": [
        {
          "output_type": "stream",
          "name": "stdout",
          "text": [
            "Enter a number:7\n",
            "Factorial of 7 is: 1\n",
            "Factorial of 7 is: 2\n",
            "Factorial of 7 is: 6\n",
            "Factorial of 7 is: 24\n",
            "Factorial of 7 is: 120\n",
            "Factorial of 7 is: 720\n",
            "Factorial of 7 is: 5040\n"
          ]
        }
      ]
    },
    {
      "cell_type": "markdown",
      "source": [
        "Write a python program to simulate a simple password system:\n",
        "1.User has 3 attempts to enter the correct password \"admin123\".\n",
        "2.if correct print \"Access Granted\".\n",
        "3.if incorrect then print \"Access Denied\"."
      ],
      "metadata": {
        "id": "bG3_4qg-7ZEd"
      }
    },
    {
      "cell_type": "code",
      "source": [
        "\n",
        "correct_password=\"admin123\"\n",
        "attempts=0\n",
        "while attempts<3:\n",
        "  password=input(\"Enter password:\")\n",
        "  if password==correct_password:\n",
        "    print(\"Access Granted\")\n",
        "    break\n",
        "else:\n",
        "    print(\"Access Denied\")"
      ],
      "metadata": {
        "colab": {
          "base_uri": "https://localhost:8080/"
        },
        "id": "QnwOilto7_O7",
        "outputId": "d12e705f-db23-49c9-8d04-3c423fb31945"
      },
      "execution_count": 47,
      "outputs": [
        {
          "output_type": "stream",
          "name": "stdout",
          "text": [
            "Enter password:admin123\n",
            "Access Granted\n"
          ]
        }
      ]
    }
  ]
}